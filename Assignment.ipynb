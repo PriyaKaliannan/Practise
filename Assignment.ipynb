{
 "cells": [
  {
   "cell_type": "markdown",
   "metadata": {},
   "source": [
    "<center>\n",
    "    <img src=\"https://s3-api.us-geo.objectstorage.softlayer.net/cf-courses-data/CognitiveClass/Logos/organization_logo/organization_logo.png\" width=\"300\" alt=\"cognitiveclass.ai logo\"  />\n",
    "</center>\n"
   ]
  },
  {
   "cell_type": "markdown",
   "metadata": {},
   "source": [
    "#### Add your code below following the instructions given in the course\n"
   ]
  },
  {
   "cell_type": "markdown",
   "metadata": {},
   "source": [
    "# My Jupyter Notebook on IBM Watson Studio"
   ]
  },
  {
   "cell_type": "markdown",
   "metadata": {},
   "source": [
    "PRIYADHARSHINI K\n",
    "\n",
    "Data Analyst"
   ]
  },
  {
   "cell_type": "markdown",
   "metadata": {},
   "source": [
    "*\"I am interested in Data Science because data science is an interesting subject where we can experiment with data, derive insights from it and in turn add value to the business or solve a particular problem. \"*"
   ]
  },
  {
   "cell_type": "markdown",
   "metadata": {},
   "source": [
    "### The following code adds all the numbers"
   ]
  },
  {
   "cell_type": "code",
   "execution_count": 1,
   "metadata": {},
   "outputs": [
    {
     "data": {
      "text/plain": [
       "250"
      ]
     },
     "execution_count": 1,
     "metadata": {},
     "output_type": "execute_result"
    }
   ],
   "source": [
    "50+80+120"
   ]
  },
  {
   "cell_type": "markdown",
   "metadata": {},
   "source": [
    "1 BULLETED LIST\n",
    "\n",
    "* Bangalore\n",
    "* Chennai\n",
    "* Delhi\n",
    "* Kolkata\n",
    "* Mumbai\n",
    "\n",
    "2 TABLE \n",
    "\n",
    "| Name of Student | Total Marks Obtained |Total Marks | Rank |\n",
    "| ----- | ----- | ----- | ----- |\n",
    "| Daniel | 410 | 500 | 4 |\n",
    "| Samuel | 390 | 500 | 5 |\n",
    "| Emma | 452 | 500 | 2 |\n",
    "| Jack | 473 | 500 | 1 |\n",
    "| Isabella | 437 | 500 | 3 |\n",
    "\n",
    "3 NUMBERED LIST \n",
    "\n",
    "1. Elephant\n",
    "2. Cat\n",
    "3. Lion\n",
    "4. Tiger\n",
    "5. Horse"
   ]
  },
  {
   "cell_type": "code",
   "execution_count": null,
   "metadata": {},
   "outputs": [],
   "source": []
  }
 ],
 "metadata": {
  "kernelspec": {
   "display_name": "Python",
   "language": "python",
   "name": "conda-env-python-py"
  },
  "language_info": {
   "codemirror_mode": {
    "name": "ipython",
    "version": 3
   },
   "file_extension": ".py",
   "mimetype": "text/x-python",
   "name": "python",
   "nbconvert_exporter": "python",
   "pygments_lexer": "ipython3",
   "version": "3.7.12"
  }
 },
 "nbformat": 4,
 "nbformat_minor": 4
}
